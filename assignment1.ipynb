{
 "cells": [
  {
   "cell_type": "code",
   "execution_count": 3,
   "metadata": {},
   "outputs": [],
   "source": [
    "ANS1 = \"Python was developed by Guido van Rossum, a Dutch programmer, in the late 1980s and was first released in 1991\"\n",
    "\n"
   ]
  },
  {
   "cell_type": "code",
   "execution_count": 2,
   "metadata": {},
   "outputs": [],
   "source": [
    "ANS2 = \"Python supports multiple programming paradigms, including Procedural programming ,Object-oriented programming ,Functional programming .\""
   ]
  },
  {
   "cell_type": "code",
   "execution_count": 1,
   "metadata": {},
   "outputs": [],
   "source": [
    "ANS3 = \"Yes, Python is case-sensitive when dealing with identifiers. For example, variables myVariable, MyVariable, and myvariable are considered different in Python.\""
   ]
  },
  {
   "cell_type": "code",
   "execution_count": 2,
   "metadata": {},
   "outputs": [],
   "source": [
    "ANS4 = \"The correct extension of a Python file is .py. For example, myfile.py\""
   ]
  },
  {
   "cell_type": "code",
   "execution_count": 3,
   "metadata": {},
   "outputs": [],
   "source": [
    "ANS5 = \"Python code is both compiled and interpreted. When you run a Python program, it is first compiled into bytecode, which is then executed by the Python interpreter.\""
   ]
  },
  {
   "cell_type": "code",
   "execution_count": 19,
   "metadata": {},
   "outputs": [],
   "source": [
    "ANS6 = \" In Python, blocks of code are defined using indentation. Common blocks includeClass definitions Loops e.g., for and while Conditional statements e.g., if, else, elif\""
   ]
  },
  {
   "cell_type": "code",
   "execution_count": 16,
   "metadata": {},
   "outputs": [],
   "source": [
    "ANS7 = \"In Python, the character # is used to give single-line comments.\""
   ]
  },
  {
   "cell_type": "code",
   "execution_count": 17,
   "metadata": {},
   "outputs": [],
   "source": [
    "ANS8 = \"The sys module provides a function called sys.version that can be used to find the version of Python currently in use.\""
   ]
  },
  {
   "cell_type": "code",
   "execution_count": 18,
   "metadata": {},
   "outputs": [],
   "source": [
    "ANS9 = \"Python supports the creation of anonymous functions at runtime using a construct called lambda functions. These are also known as lambda expressions.\""
   ]
  },
  {
   "cell_type": "code",
   "execution_count": 8,
   "metadata": {},
   "outputs": [],
   "source": [
    "ANS10 = \"pip stands for Pip Installs Packages. It is a package management system used to install and manage software packages written in Python.\""
   ]
  },
  {
   "cell_type": "code",
   "execution_count": 9,
   "metadata": {},
   "outputs": [],
   "source": [
    "ANS11 = \"Some of the built-in functions in Python are: print(): Used to print output to the console. len(): Used to find the length of a sequence (e.g., string, list, tuple). range(): Used to generate a sequence of numbers. input(): Used to take user input from the console.\""
   ]
  },
  {
   "cell_type": "code",
   "execution_count": 10,
   "metadata": {},
   "outputs": [],
   "source": [
    "ANS12 = \"In Python, the maximum possible length of an identifier (variable name, function name, etc.) is implementation-dependent and can vary based on the Python interpreter being used. However, there is no explicit maximum length defined in the language specification. It is generally recommended to keep identifiers reasonably short and meaningful for better code readability.\""
   ]
  },
  {
   "cell_type": "code",
   "execution_count": 11,
   "metadata": {},
   "outputs": [],
   "source": [
    "ANS13 = \"Benefits of using Python include: readability and stability,extensive standard libraries , versatility.\""
   ]
  },
  {
   "cell_type": "code",
   "execution_count": 12,
   "metadata": {},
   "outputs": [],
   "source": [
    "ANS14 = \"Memory management in Python is handled automatically through a combination of private heap space and a garbage collector\""
   ]
  },
  {
   "cell_type": "code",
   "execution_count": 13,
   "metadata": {},
   "outputs": [],
   "source": [
    "ANS15 = \" \""
   ]
  },
  {
   "cell_type": "code",
   "execution_count": null,
   "metadata": {},
   "outputs": [],
   "source": []
  }
 ],
 "metadata": {
  "kernelspec": {
   "display_name": "Python 3",
   "language": "python",
   "name": "python3"
  },
  "language_info": {
   "codemirror_mode": {
    "name": "ipython",
    "version": 3
   },
   "file_extension": ".py",
   "mimetype": "text/x-python",
   "name": "python",
   "nbconvert_exporter": "python",
   "pygments_lexer": "ipython3",
   "version": "3.10.11"
  },
  "orig_nbformat": 4
 },
 "nbformat": 4,
 "nbformat_minor": 2
}
